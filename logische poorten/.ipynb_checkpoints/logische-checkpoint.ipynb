{
 "cells": [
  {
   "cell_type": "code",
   "execution_count": 9,
   "id": "4e1d34d4-ec07-46fd-b710-31d701d596f1",
   "metadata": {},
   "outputs": [],
   "source": [
    "def andpoort(boolean1,boolean2):\n",
    "    if (boolean1 == 1)and(boolean2 ==1):\n",
    "        return True\n",
    "    else:\n",
    "        return False"
   ]
  },
  {
   "cell_type": "code",
   "execution_count": 27,
   "id": "70ae3b2a-3bc4-4e39-9467-e04556148425",
   "metadata": {},
   "outputs": [
    {
     "data": {
      "text/plain": [
       "False"
      ]
     },
     "execution_count": 27,
     "metadata": {},
     "output_type": "execute_result"
    }
   ],
   "source": [
    "boolean1 = (1<2)\n",
    "boolean2 =  (1>2)   #change the operator to get a different result\n",
    "andpoort(boolean1,boolean2)"
   ]
  },
  {
   "cell_type": "code",
   "execution_count": 19,
   "id": "4c266cac-144d-426c-b039-2276ce49d2c1",
   "metadata": {},
   "outputs": [],
   "source": [
    "def orpoort(boolean1,boolean2):\n",
    "    if(boolean1==1)or(boolean2==1):\n",
    "        return 2>1\n",
    "    else:\n",
    "        return 1>2"
   ]
  },
  {
   "cell_type": "code",
   "execution_count": 26,
   "id": "cc818fd9-526d-4bdb-a456-49513a6f78d7",
   "metadata": {},
   "outputs": [
    {
     "data": {
      "text/plain": [
       "False"
      ]
     },
     "execution_count": 26,
     "metadata": {},
     "output_type": "execute_result"
    }
   ],
   "source": [
    "boolean1 = (0)\n",
    "boolean2 =  (0)   #change the operator to get a different result\n",
    "orpoort(boolean1,boolean2)"
   ]
  },
  {
   "cell_type": "code",
   "execution_count": 28,
   "id": "137ae11e-79a8-46e7-bc22-5dadd1480b3a",
   "metadata": {},
   "outputs": [],
   "source": [
    "def nandpoort(boolean1,boolean2):\n",
    "    if (boolean1 == 1)and(boolean2 ==0):\n",
    "        return 2>1\n",
    "    elif(boolean1==0)and(boolean==1):\n",
    "        return 2>1\n",
    "    else:\n",
    "        return 1>2"
   ]
  },
  {
   "cell_type": "code",
   "execution_count": 29,
   "id": "8f20e202-b676-4b66-8bea-673d94f06155",
   "metadata": {},
   "outputs": [
    {
     "data": {
      "text/plain": [
       "True"
      ]
     },
     "execution_count": 29,
     "metadata": {},
     "output_type": "execute_result"
    }
   ],
   "source": [
    "boolean1 = (1<2)\n",
    "boolean2 =  (1>2)   #change the operator to get a different result\n",
    "nandpoort(boolean1,boolean2)"
   ]
  },
  {
   "cell_type": "code",
   "execution_count": 40,
   "id": "0c2fbdd7-5265-4677-a204-8cff4c53211d",
   "metadata": {},
   "outputs": [
    {
     "data": {
      "text/plain": [
       "True"
      ]
     },
     "execution_count": 40,
     "metadata": {},
     "output_type": "execute_result"
    }
   ],
   "source": [
    "def notpoort(boolean1):\n",
    "    if(boolean1):\n",
    "        return False\n",
    "    return True\n",
    "notpoort(False)"
   ]
  },
  {
   "cell_type": "code",
   "execution_count": 30,
   "id": "c683c90e-50ec-48d8-bc64-94447a69a8b8",
   "metadata": {},
   "outputs": [],
   "source": [
    "#Effe geen logische shit"
   ]
  },
  {
   "cell_type": "code",
   "execution_count": 31,
   "id": "900e821a-14db-4cc7-988f-9d718ca21b02",
   "metadata": {},
   "outputs": [
    {
     "data": {
      "text/plain": [
       "'r'"
      ]
     },
     "execution_count": 31,
     "metadata": {},
     "output_type": "execute_result"
    }
   ],
   "source": [
    "def zoveelstekarakter(positie, tekst):\n",
    "    \"\"\"Deze functie ja blablablablatesttest\"\"\"\n",
    "    if (positie>len(tekst)):\n",
    "        return print(\"Dit is niet een geldige positie in: \"+tekst)\n",
    "    else:\n",
    "        return tekst[positie-1]\n",
    "tekst=\"Joren\"\n",
    "zoveelstekarakter(3, tekst)"
   ]
  },
  {
   "cell_type": "code",
   "execution_count": 43,
   "id": "dfd4ece8-8dd7-4cf1-a313-a6aac7908f5b",
   "metadata": {},
   "outputs": [],
   "source": [
    "def notpo(bool1):\n",
    "    return not bool1"
   ]
  },
  {
   "cell_type": "code",
   "execution_count": 55,
   "id": "c2e199e2-0e82-476a-b0d1-f8ca8906b28d",
   "metadata": {},
   "outputs": [
    {
     "data": {
      "text/plain": [
       "True"
      ]
     },
     "execution_count": 55,
     "metadata": {},
     "output_type": "execute_result"
    }
   ],
   "source": [
    "notpo(\"\")"
   ]
  },
  {
   "cell_type": "code",
   "execution_count": 51,
   "id": "730b7be2-d31e-4c8f-bc84-e70b4e8b2700",
   "metadata": {},
   "outputs": [
    {
     "data": {
      "text/plain": [
       "False"
      ]
     },
     "execution_count": 51,
     "metadata": {},
     "output_type": "execute_result"
    }
   ],
   "source": [
    "\n",
    "not bool(1)"
   ]
  },
  {
   "cell_type": "code",
   "execution_count": null,
   "id": "1ccbf3c8-9e53-413c-8f9d-5cab3015d13e",
   "metadata": {},
   "outputs": [],
   "source": []
  }
 ],
 "metadata": {
  "kernelspec": {
   "display_name": "Python 3 (ipykernel)",
   "language": "python",
   "name": "python3"
  },
  "language_info": {
   "codemirror_mode": {
    "name": "ipython",
    "version": 3
   },
   "file_extension": ".py",
   "mimetype": "text/x-python",
   "name": "python",
   "nbconvert_exporter": "python",
   "pygments_lexer": "ipython3",
   "version": "3.11.5"
  }
 },
 "nbformat": 4,
 "nbformat_minor": 5
}
