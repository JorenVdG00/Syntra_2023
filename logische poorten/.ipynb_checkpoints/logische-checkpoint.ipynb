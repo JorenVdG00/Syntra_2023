{
 "cells": [
  {
   "cell_type": "code",
   "execution_count": null,
   "id": "4e1d34d4-ec07-46fd-b710-31d701d596f1",
   "metadata": {},
   "outputs": [],
   "source": [
    "def andpoort(boolean1,boolean2):\n",
    "    if (boolean1 == true) && (boolean2 ==true):\n",
    "        return true\n",
    "    else:\n",
    "        return false"
   ]
  }
 ],
 "metadata": {
  "kernelspec": {
   "display_name": "Python 3 (ipykernel)",
   "language": "python",
   "name": "python3"
  },
  "language_info": {
   "codemirror_mode": {
    "name": "ipython",
    "version": 3
   },
   "file_extension": ".py",
   "mimetype": "text/x-python",
   "name": "python",
   "nbconvert_exporter": "python",
   "pygments_lexer": "ipython3",
   "version": "3.11.5"
  }
 },
 "nbformat": 4,
 "nbformat_minor": 5
}
