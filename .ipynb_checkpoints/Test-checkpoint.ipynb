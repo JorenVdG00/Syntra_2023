{
 "cells": [
  {
   "cell_type": "code",
   "execution_count": 1,
   "id": "cf21382f-68b9-41e6-a11c-d8bc29beb061",
   "metadata": {},
   "outputs": [
    {
     "name": "stdout",
     "output_type": "stream",
     "text": [
      "Joren\n"
     ]
    }
   ],
   "source": [
    "naam=\"Joren\"\n",
    "print(naam)"
   ]
  },
  {
   "cell_type": "code",
   "execution_count": 11,
   "id": "94105544-8342-4c11-bd03-900990aaf6d6",
   "metadata": {},
   "outputs": [],
   "source": [
    "te_printen=f\"Mijn naam is gelijk aan {naam}.\"\n"
   ]
  },
  {
   "cell_type": "code",
   "execution_count": 6,
   "id": "0a983889-7eb2-48a1-940d-06e175dac885",
   "metadata": {},
   "outputs": [
    {
     "name": "stdout",
     "output_type": "stream",
     "text": [
      "Mijn naam is gelijk aan Joren.\n"
     ]
    }
   ],
   "source": [
    "print(te_printen)"
   ]
  },
  {
   "cell_type": "code",
   "execution_count": 9,
   "id": "57b2b0ac-f736-42d4-a1e5-8f0481e2d31d",
   "metadata": {},
   "outputs": [
    {
     "name": "stdin",
     "output_type": "stream",
     "text": [
      "Geef je naam: bla\n"
     ]
    }
   ],
   "source": [
    "naam=input('Geef je naam:')"
   ]
  },
  {
   "cell_type": "code",
   "execution_count": 12,
   "id": "23bcdb31-9a1f-4aa3-826b-46689443f84d",
   "metadata": {},
   "outputs": [
    {
     "name": "stdout",
     "output_type": "stream",
     "text": [
      "Mijn naam is gelijk aan bla.\n"
     ]
    }
   ],
   "source": [
    "print(te_printen)"
   ]
  },
  {
   "cell_type": "code",
   "execution_count": 15,
   "id": "df62a5b2-8fbe-420b-a6b0-4b5d62c1c209",
   "metadata": {},
   "outputs": [
    {
     "data": {
      "text/plain": [
       "32"
      ]
     },
     "execution_count": 15,
     "metadata": {},
     "output_type": "execute_result"
    }
   ],
   "source": [
    "getal = 5\n",
    "getal2 = int(\"27\")\n",
    "getal+getal2"
   ]
  },
  {
   "cell_type": "code",
   "execution_count": 19,
   "id": "fa3816d4-c6ad-44be-a2cd-d2a6a74d7efd",
   "metadata": {},
   "outputs": [
    {
     "data": {
      "text/plain": [
       "'joren ren'"
      ]
     },
     "execution_count": 19,
     "metadata": {},
     "output_type": "execute_result"
    }
   ],
   "source": [
    "naam=\"joren\"\n",
    "naam2=\"ren\"\n",
    "naam+\"\"+naam2"
   ]
  },
  {
   "cell_type": "code",
   "execution_count": 24,
   "id": "4cda84d8-5171-4ecf-99c2-b380565f8fe2",
   "metadata": {},
   "outputs": [],
   "source": [
    "#GHello"
   ]
  },
  {
   "cell_type": "code",
   "execution_count": 22,
   "id": "fd64fbbd-991e-4103-a5af-6811c7f45f44",
   "metadata": {},
   "outputs": [
    {
     "name": "stdout",
     "output_type": "stream",
     "text": [
      "Dit is commentaar dit ook\n"
     ]
    }
   ],
   "source": [
    "comment=\"\"\"Dit is commentaar dit ook\"\"\"\n",
    "print(comment)"
   ]
  },
  {
   "cell_type": "code",
   "execution_count": 26,
   "id": "ced5f890-482b-4174-ab0a-2353b78ba23c",
   "metadata": {},
   "outputs": [
    {
     "data": {
      "text/plain": [
       "float"
      ]
     },
     "execution_count": 26,
     "metadata": {},
     "output_type": "execute_result"
    }
   ],
   "source": [
    "result=8/4\n",
    "type(result)"
   ]
  },
  {
   "cell_type": "code",
   "execution_count": 27,
   "id": "7320fcd7-0016-461a-9978-83543def4d59",
   "metadata": {},
   "outputs": [
    {
     "data": {
      "text/plain": [
       "64"
      ]
     },
     "execution_count": 27,
     "metadata": {},
     "output_type": "execute_result"
    }
   ],
   "source": [
    "#exp\n",
    "4**3"
   ]
  },
  {
   "cell_type": "code",
   "execution_count": 42,
   "id": "7dfdfe68-7144-4067-b0f6-c5ec6ab9c711",
   "metadata": {},
   "outputs": [],
   "source": [
    "a = 0\n",
    "for i in range(5):\n",
    "    a+=i\n",
    "    a+=5"
   ]
  },
  {
   "cell_type": "code",
   "execution_count": 43,
   "id": "a24657a4-805b-4015-b53d-a24ecc3ea668",
   "metadata": {},
   "outputs": [
    {
     "name": "stdout",
     "output_type": "stream",
     "text": [
      "35\n"
     ]
    }
   ],
   "source": [
    "print(a)"
   ]
  },
  {
   "cell_type": "code",
   "execution_count": 33,
   "id": "dce1a6a9-9180-4556-b006-589ca9f61632",
   "metadata": {},
   "outputs": [
    {
     "data": {
      "text/plain": [
       "3"
      ]
     },
     "execution_count": 33,
     "metadata": {},
     "output_type": "execute_result"
    }
   ],
   "source": [
    "#Modulo operator\n",
    "7%4"
   ]
  },
  {
   "cell_type": "code",
   "execution_count": 35,
   "id": "525a8a4c-2520-4f7f-9166-33f20230a713",
   "metadata": {},
   "outputs": [
    {
     "data": {
      "text/plain": [
       "1"
      ]
     },
     "execution_count": 35,
     "metadata": {},
     "output_type": "execute_result"
    }
   ],
   "source": [
    "7//4"
   ]
  },
  {
   "cell_type": "code",
   "execution_count": 44,
   "id": "e29494fa-ac82-4499-96d8-4565f2963e36",
   "metadata": {},
   "outputs": [],
   "source": [
    "def add(term1, term2):\n",
    "    \"\"\"Geeft de som van de 2 getallen\"\"\"\n",
    "    return term1+term2"
   ]
  },
  {
   "cell_type": "code",
   "execution_count": 45,
   "id": "36d51498-991f-4325-b572-499dadc2612b",
   "metadata": {},
   "outputs": [
    {
     "data": {
      "text/plain": [
       "9"
      ]
     },
     "execution_count": 45,
     "metadata": {},
     "output_type": "execute_result"
    }
   ],
   "source": [
    "add(4,5)"
   ]
  },
  {
   "cell_type": "code",
   "execution_count": 46,
   "id": "c1363342-7752-419e-ada7-86a2223e41aa",
   "metadata": {},
   "outputs": [],
   "source": [
    "def add(term1,term2,term3,term4,term):\n",
    "    return term1+term2+term3"
   ]
  },
  {
   "cell_type": "code",
   "execution_count": 47,
   "id": "7648fb10-3048-4fbb-876b-57a1e13283bd",
   "metadata": {},
   "outputs": [
    {
     "data": {
      "text/plain": [
       "15"
      ]
     },
     "execution_count": 47,
     "metadata": {},
     "output_type": "execute_result"
    }
   ],
   "source": [
    "add(4,5,6)"
   ]
  },
  {
   "cell_type": "code",
   "execution_count": 50,
   "id": "aba95604-8e18-4c23-835e-879945079cad",
   "metadata": {},
   "outputs": [
    {
     "name": "stdout",
     "output_type": "stream",
     "text": [
      "1\n",
      "3\n",
      "5\n",
      "7\n",
      "9\n",
      "11\n",
      "13\n",
      "15\n",
      "17\n",
      "19\n"
     ]
    }
   ],
   "source": [
    "#  IF Statement\n",
    "for i in range(21):\n",
    "    if(i%2!=0):\n",
    "        print(i)"
   ]
  },
  {
   "cell_type": "code",
   "execution_count": 52,
   "id": "de22d7b5-67a1-4936-ad90-bd603a8ef751",
   "metadata": {},
   "outputs": [
    {
     "name": "stdout",
     "output_type": "stream",
     "text": [
      "0\n",
      "1\n",
      "2\n",
      "3\n",
      "4\n",
      "5\n",
      "6\n",
      "7\n",
      "8\n",
      "9\n",
      "10\n",
      "11\n",
      "12\n",
      "13\n",
      "14\n",
      "15\n",
      "16\n",
      "17\n",
      "18\n",
      "19\n",
      "20\n"
     ]
    }
   ],
   "source": [
    "#WhileLoop\n",
    "i=0\n",
    "while i <= 20:\n",
    "    print(i)\n",
    "    i+=1"
   ]
  },
  {
   "cell_type": "code",
   "execution_count": 53,
   "id": "81329ae7-609e-4046-b90a-5326f578c98d",
   "metadata": {},
   "outputs": [
    {
     "name": "stdout",
     "output_type": "stream",
     "text": [
      "1\n",
      "2\n",
      "2\n",
      "3\n",
      "4\n",
      "5\n"
     ]
    }
   ],
   "source": [
    "#Lists\n",
    "lijst = [1,2,2,3,4,5]\n",
    "for item in lijst:\n",
    "    print(item)"
   ]
  },
  {
   "cell_type": "code",
   "execution_count": 57,
   "id": "3b44c5f2-e064-4129-b9fe-e8e9771d9882",
   "metadata": {},
   "outputs": [
    {
     "name": "stdout",
     "output_type": "stream",
     "text": [
      "1\n",
      "2\n",
      "16\n",
      "3\n",
      "4\n",
      "5\n"
     ]
    }
   ],
   "source": [
    "lijst[2]=16\n",
    "for item in lijst:\n",
    "    print(item)"
   ]
  },
  {
   "cell_type": "code",
   "execution_count": 55,
   "id": "75be3067-2e00-4366-afb2-661969ed1820",
   "metadata": {},
   "outputs": [
    {
     "data": {
      "text/plain": [
       "2"
      ]
     },
     "execution_count": 55,
     "metadata": {},
     "output_type": "execute_result"
    }
   ],
   "source": [
    "#Tuple\n",
    "my_tuple = (0,1,2)\n",
    "my_tuple[2]"
   ]
  },
  {
   "cell_type": "code",
   "execution_count": 58,
   "id": "0799c4dd-f9bb-451e-81ce-3941818e48e5",
   "metadata": {},
   "outputs": [],
   "source": [
    "def multiply_add(a,b,c):\n",
    "    multi = a*b*c\n",
    "    add = a+b+c\n",
    "    return multi, add"
   ]
  },
  {
   "cell_type": "code",
   "execution_count": 59,
   "id": "515afefc-89ea-43cc-beb8-f8f1f90fa935",
   "metadata": {},
   "outputs": [],
   "source": [
    "product , som =multiply_add(4,5,6)"
   ]
  },
  {
   "cell_type": "code",
   "execution_count": 61,
   "id": "f4e0e17a-b2b5-405c-aa19-dd10c3e65f0c",
   "metadata": {},
   "outputs": [
    {
     "name": "stdout",
     "output_type": "stream",
     "text": [
      "120\n",
      "15\n"
     ]
    }
   ],
   "source": [
    "print(product)\n",
    "print(som)"
   ]
  },
  {
   "cell_type": "code",
   "execution_count": 64,
   "id": "ba62b474-44c8-489f-9d4c-9d9d04f9bb4a",
   "metadata": {},
   "outputs": [
    {
     "name": "stdout",
     "output_type": "stream",
     "text": [
      "10\n",
      "20\n",
      "30\n",
      "40\n",
      "50\n"
     ]
    }
   ],
   "source": [
    "# Break statement\n",
    "numbers = [10,20,30,40,50,60]\n",
    "for _ in numbers:\n",
    "    if _ > 50:\n",
    "        break\n",
    "    print(_)"
   ]
  },
  {
   "cell_type": "code",
   "execution_count": 66,
   "id": "cfc15afc-aa92-4ec4-b091-48abc07630be",
   "metadata": {
    "collapsed": true,
    "jupyter": {
     "outputs_hidden": true
    }
   },
   "outputs": [
    {
     "name": "stdout",
     "output_type": "stream",
     "text": [
      "3\n",
      "5\n",
      "7\n",
      "9\n",
      "11\n",
      "13\n",
      "15\n",
      "17\n",
      "19\n",
      "21\n",
      "23\n",
      "25\n",
      "27\n",
      "29\n",
      "31\n",
      "33\n",
      "35\n",
      "37\n",
      "39\n",
      "41\n",
      "43\n",
      "45\n",
      "47\n",
      "49\n",
      "51\n",
      "53\n",
      "55\n",
      "57\n",
      "59\n",
      "61\n",
      "63\n",
      "65\n",
      "67\n",
      "69\n",
      "71\n",
      "73\n",
      "75\n",
      "77\n",
      "79\n",
      "81\n",
      "83\n",
      "85\n",
      "87\n",
      "89\n",
      "91\n",
      "93\n",
      "95\n",
      "97\n",
      "99\n"
     ]
    }
   ],
   "source": [
    "n=1\n",
    "while n<100:\n",
    "    n+=1\n",
    "    if n%2==0:\n",
    "        continue\n",
    "    print(n)\n"
   ]
  },
  {
   "cell_type": "code",
   "execution_count": 68,
   "id": "8bbc7de2-c166-4f1b-bf79-6f8c2e8179ea",
   "metadata": {},
   "outputs": [
    {
     "data": {
      "text/plain": [
       "[1, 2, 3, 4, 5, 6]"
      ]
     },
     "execution_count": 68,
     "metadata": {},
     "output_type": "execute_result"
    }
   ],
   "source": [
    "#lists\n",
    "list_1=[1,2,3]\n",
    "list_2=[4,5,6]\n",
    "list_3=list_1+list_2\n",
    "list_3"
   ]
  },
  {
   "cell_type": "code",
   "execution_count": 69,
   "id": "e239c3f8-99ca-4ad3-bf29-49e0c26a686d",
   "metadata": {},
   "outputs": [
    {
     "data": {
      "text/plain": [
       "[1, 2, 3, 4, 5, 6, 1, 2, 3]"
      ]
     },
     "execution_count": 69,
     "metadata": {},
     "output_type": "execute_result"
    }
   ],
   "source": [
    "for _ in list_1:\n",
    "    list_3.append(_)\n",
    "list_3"
   ]
  },
  {
   "cell_type": "code",
   "execution_count": 70,
   "id": "649004d5-6eea-4bb4-a241-4e47a4a93b85",
   "metadata": {},
   "outputs": [
    {
     "name": "stdin",
     "output_type": "stream",
     "text": [
      "Geef je naam Joren\n"
     ]
    },
    {
     "data": {
      "text/plain": [
       "['J', 'o', 'r', 'e', 'n']"
      ]
     },
     "execution_count": 70,
     "metadata": {},
     "output_type": "execute_result"
    }
   ],
   "source": [
    "name_list=[]\n",
    "myname=input(\"Geef je naam\")\n",
    "for char in myname:\n",
    "    name_list.append(char)\n",
    "name_list"
   ]
  },
  {
   "cell_type": "code",
   "execution_count": 76,
   "id": "0baca518-a53a-48a3-a8c3-5b2e49ec2493",
   "metadata": {},
   "outputs": [
    {
     "data": {
      "text/plain": [
       "['o', 'r', 'e', 'n']"
      ]
     },
     "execution_count": 76,
     "metadata": {},
     "output_type": "execute_result"
    }
   ],
   "source": [
    "short_name = name_list[1:6]\n",
    "short_name"
   ]
  },
  {
   "cell_type": "code",
   "execution_count": 79,
   "id": "79c1c385-8451-4dcf-aa98-24c03811a711",
   "metadata": {},
   "outputs": [
    {
     "data": {
      "text/plain": [
       "['n', 'e', 'r', 'o', 'J']"
      ]
     },
     "execution_count": 79,
     "metadata": {},
     "output_type": "execute_result"
    }
   ],
   "source": [
    "reverse_name=[]\n",
    "for i in range(len(name_list)):\n",
    "    reverse_name.append(name_list[len(name_list)-i-1])\n",
    "reverse_name"
   ]
  },
  {
   "cell_type": "code",
   "execution_count": 88,
   "id": "4fedb3be-247b-401b-9271-340b7cc85253",
   "metadata": {},
   "outputs": [
    {
     "name": "stdout",
     "output_type": "stream",
     "text": [
      "5\n"
     ]
    }
   ],
   "source": [
    "import random \n",
    "my_number = random.randint(2,5)\n",
    "my_number\n",
    "print(my_number)\n",
    "another_number = random.random()\n"
   ]
  },
  {
   "cell_type": "code",
   "execution_count": 90,
   "id": "79431384-c8af-4b81-a38d-b6e17081ecf1",
   "metadata": {},
   "outputs": [
    {
     "data": {
      "text/plain": [
       "0.2050816894520815"
      ]
     },
     "execution_count": 90,
     "metadata": {},
     "output_type": "execute_result"
    }
   ],
   "source": [
    "another_number"
   ]
  },
  {
   "cell_type": "code",
   "execution_count": 89,
   "id": "77e42633-893f-45f6-a52d-2c81f29b26c9",
   "metadata": {},
   "outputs": [
    {
     "data": {
      "text/plain": [
       "0.21"
      ]
     },
     "execution_count": 89,
     "metadata": {},
     "output_type": "execute_result"
    }
   ],
   "source": [
    "round(another_number,2)"
   ]
  },
  {
   "cell_type": "code",
   "execution_count": 91,
   "id": "190e0c9a-183a-4c20-99b4-25ad15cc5b47",
   "metadata": {},
   "outputs": [
    {
     "data": {
      "text/plain": [
       "0.2"
      ]
     },
     "execution_count": 91,
     "metadata": {},
     "output_type": "execute_result"
    }
   ],
   "source": [
    "#absolute value\n",
    "abs(-0.2)"
   ]
  },
  {
   "cell_type": "code",
   "execution_count": 92,
   "id": "7c40e1b9-4d30-41da-aa12-48dda0a20685",
   "metadata": {},
   "outputs": [
    {
     "data": {
      "text/plain": [
       "datetime.datetime(2023, 9, 26, 14, 23, 4, 801929)"
      ]
     },
     "execution_count": 92,
     "metadata": {},
     "output_type": "execute_result"
    }
   ],
   "source": [
    "import datetime as dt\n",
    "now = dt.datetime.now()\n",
    "now"
   ]
  },
  {
   "cell_type": "code",
   "execution_count": 102,
   "id": "689482bd-ac98-4105-9724-eac5edf90b93",
   "metadata": {},
   "outputs": [],
   "source": [
    "#classes\n",
    "class Person:\n",
    "    def __init__(self, name, age):\n",
    "        self.name=name\n",
    "        self.age=age\n",
    "    def greet(self):\n",
    "        return f\"{self.name} says Hello!\""
   ]
  },
  {
   "cell_type": "code",
   "execution_count": 103,
   "id": "3dd43850-e8d7-4031-b5ea-e7652d79e41b",
   "metadata": {},
   "outputs": [],
   "source": [
    "person=Person('Joren',20)"
   ]
  },
  {
   "cell_type": "code",
   "execution_count": 104,
   "id": "f5a850e9-abbd-410e-898d-d56dbfc11eb5",
   "metadata": {},
   "outputs": [
    {
     "data": {
      "text/plain": [
       "'Joren'"
      ]
     },
     "execution_count": 104,
     "metadata": {},
     "output_type": "execute_result"
    }
   ],
   "source": [
    "person.name"
   ]
  },
  {
   "cell_type": "code",
   "execution_count": 105,
   "id": "11afcc0c-a9aa-42eb-a52c-1bbe567b0839",
   "metadata": {},
   "outputs": [
    {
     "data": {
      "text/plain": [
       "20"
      ]
     },
     "execution_count": 105,
     "metadata": {},
     "output_type": "execute_result"
    }
   ],
   "source": [
    "person.age"
   ]
  },
  {
   "cell_type": "code",
   "execution_count": 109,
   "id": "ac3d5909-e11b-41b7-9b54-3b2706fbbfd9",
   "metadata": {},
   "outputs": [
    {
     "data": {
      "text/plain": [
       "'Joren says Hello!'"
      ]
     },
     "execution_count": 109,
     "metadata": {},
     "output_type": "execute_result"
    }
   ],
   "source": [
    "greeting = person.greet()\n",
    "greeting"
   ]
  },
  {
   "cell_type": "code",
   "execution_count": 125,
   "id": "7f424191-204f-4c5d-aa4e-647eabb6abd2",
   "metadata": {},
   "outputs": [
    {
     "data": {
      "text/plain": [
       "'Silvain says Hello!'"
      ]
     },
     "execution_count": 125,
     "metadata": {},
     "output_type": "execute_result"
    }
   ],
   "source": [
    "person2=Person('Silvain',44)\n",
    "\n",
    "person2.name\n",
    "person2.greet()"
   ]
  },
  {
   "cell_type": "code",
   "execution_count": 123,
   "id": "81b16fc3-c576-4bfc-853e-1675923490c7",
   "metadata": {},
   "outputs": [],
   "source": [
    "person3 = Person('KAppa' , 78)"
   ]
  },
  {
   "cell_type": "code",
   "execution_count": 126,
   "id": "100b9213-04a9-4fb4-990a-bb3393384268",
   "metadata": {},
   "outputs": [
    {
     "name": "stdout",
     "output_type": "stream",
     "text": [
      "Joren says Hello!\n",
      "Silvain says Hello!\n",
      "KAppa says Hello!\n"
     ]
    }
   ],
   "source": [
    "persons = [person, person2, person3]\n",
    "for person in persons:\n",
    "    print(person.greet())"
   ]
  },
  {
   "cell_type": "code",
   "execution_count": null,
   "id": "68be75df-f1d5-4067-8b37-201e0632cd0d",
   "metadata": {},
   "outputs": [],
   "source": [
    "#Oefeningen"
   ]
  },
  {
   "cell_type": "code",
   "execution_count": 179,
   "id": "e1209d34-18ac-43b1-aa5f-8b490158b777",
   "metadata": {},
   "outputs": [],
   "source": [
    "zin = \"Hello How is everyone doing\""
   ]
  },
  {
   "cell_type": "code",
   "execution_count": 129,
   "id": "3f4aab48-2c91-40d3-8a3e-86bec524254d",
   "metadata": {},
   "outputs": [
    {
     "name": "stdout",
     "output_type": "stream",
     "text": [
      "27\n"
     ]
    }
   ],
   "source": [
    "#tel het aantal karakters in de zin\n",
    "a=0\n",
    "for _ in zin:\n",
    "    a+=1\n",
    "print(a)"
   ]
  },
  {
   "cell_type": "code",
   "execution_count": 136,
   "id": "a0adcf7d-13ae-4a07-b635-295bda222454",
   "metadata": {},
   "outputs": [
    {
     "name": "stdin",
     "output_type": "stream",
     "text": [
      "geef een getal tussen (1-10) 5\n"
     ]
    },
    {
     "name": "stdout",
     "output_type": "stream",
     "text": [
      "Je moet hoger gokken\n"
     ]
    },
    {
     "name": "stdin",
     "output_type": "stream",
     "text": [
      "geef een getal tussen (1-10) 6\n"
     ]
    },
    {
     "name": "stdout",
     "output_type": "stream",
     "text": [
      "Je moet hoger gokken\n"
     ]
    },
    {
     "name": "stdin",
     "output_type": "stream",
     "text": [
      "geef een getal tussen (1-10) 8\n"
     ]
    },
    {
     "name": "stdout",
     "output_type": "stream",
     "text": [
      "Je moet lager gokken\n"
     ]
    },
    {
     "name": "stdin",
     "output_type": "stream",
     "text": [
      "geef een getal tussen (1-10) 7\n"
     ]
    },
    {
     "name": "stdout",
     "output_type": "stream",
     "text": [
      "je hebt het juiste getal geraden.\n"
     ]
    }
   ],
   "source": [
    "#maak een eenvoudig raadspel waarbij je een input van een getal tussen nul en 10 vraagt vergelijk dit met een random numer wat je hebt gekozen\n",
    "#Geef feedback of de gebruiker hoger of lager moet raden\n",
    "import random as r\n",
    "n=1\n",
    "te_zoeken_getal = r.randint(1,10)\n",
    "while (n==1):\n",
    "    getal = int(input(\"geef een getal tussen (1-10)\"))\n",
    "    if getal==te_zoeken_getal:\n",
    "        print(\"je hebt het juiste getal geraden.\")\n",
    "        n=0\n",
    "    elif getal>te_zoeken_getal:\n",
    "        print(\"Je moet lager gokken\")\n",
    "    else:\n",
    "        print(\"Je moet hoger gokken\")"
   ]
  },
  {
   "cell_type": "code",
   "execution_count": 138,
   "id": "70a96835-54c2-4789-95ba-0a8be7856d4e",
   "metadata": {},
   "outputs": [
    {
     "name": "stdin",
     "output_type": "stream",
     "text": [
      "geef je leeftijd 15\n"
     ]
    },
    {
     "name": "stdout",
     "output_type": "stream",
     "text": [
      "je bent een tiener\n"
     ]
    }
   ],
   "source": [
    "#Maak via een if-elif-else statement een toepassing om iemand aan de hand van zijn leeftijd in een bepaalde categorie e stoppen\n",
    "leeftijd=int(input(\"geef je leeftijd\"))\n",
    "if leeftijd<2:\n",
    "    print(\"je bent een baby\")\n",
    "elif leeftijd<4:\n",
    "    print(\"je bent een kleuter\")\n",
    "elif leeftijd<11:\n",
    "    print(\"je bent een kind\")\n",
    "elif leeftijd< 18:\n",
    "    print(\"je bent een tiener\")\n",
    "else:\n",
    "    print(\"Je bent volwassen\")"
   ]
  },
  {
   "cell_type": "code",
   "execution_count": 139,
   "id": "057d81c5-5e5c-407f-9a95-cff9a955a444",
   "metadata": {},
   "outputs": [],
   "source": [
    "#maak een list met de volgende kleuren: rood groen blauw geel oranje Kies een willekeurig kleur via de random module vraag de gebruiker een kleur te raden en geef aan of hij juist was"
   ]
  },
  {
   "cell_type": "code",
   "execution_count": 142,
   "id": "20af35a3-d66e-47c7-a168-4ce0566a1be9",
   "metadata": {},
   "outputs": [
    {
     "name": "stdin",
     "output_type": "stream",
     "text": [
      "geef een kleur uit blauw,geel,groen,rood,oranje\n",
      " blauw\n"
     ]
    },
    {
     "name": "stdout",
     "output_type": "stream",
     "text": [
      "gok nog een keer\n"
     ]
    },
    {
     "name": "stdin",
     "output_type": "stream",
     "text": [
      "geef een kleur uit blauw,geel,groen,rood,oranje\n",
      " geel\n"
     ]
    },
    {
     "name": "stdout",
     "output_type": "stream",
     "text": [
      "gok nog een keer\n"
     ]
    },
    {
     "name": "stdin",
     "output_type": "stream",
     "text": [
      "geef een kleur uit blauw,geel,groen,rood,oranje\n",
      " groen\n"
     ]
    },
    {
     "name": "stdout",
     "output_type": "stream",
     "text": [
      "gok nog een keer\n"
     ]
    },
    {
     "name": "stdin",
     "output_type": "stream",
     "text": [
      "geef een kleur uit blauw,geel,groen,rood,oranje\n",
      " rood\n"
     ]
    },
    {
     "name": "stdout",
     "output_type": "stream",
     "text": [
      "gok nog een keer\n"
     ]
    },
    {
     "name": "stdin",
     "output_type": "stream",
     "text": [
      "geef een kleur uit blauw,geel,groen,rood,oranje\n",
      " oranje\n"
     ]
    },
    {
     "name": "stdout",
     "output_type": "stream",
     "text": [
      "je hebt het juiste kleur geraden\n"
     ]
    }
   ],
   "source": [
    "import random as r\n",
    "n=1\n",
    "kleuren=[\"blauw\",\"geel\",\"groen\",\"rood\",\"oranje\"]\n",
    "rando_getal=r.randint(1,5)\n",
    "while(n==1):\n",
    "    kleur=input(\"geef een kleur uit blauw,geel,groen,rood,oranje\\n\")\n",
    "    if kleur==kleuren[rando_getal]:\n",
    "        print(\"je hebt het juiste kleur geraden\")\n",
    "        n=0\n",
    "    else:\n",
    "        print(\"gok nog een keer\")\n",
    "    \n",
    "          \n",
    "    "
   ]
  },
  {
   "cell_type": "code",
   "execution_count": 151,
   "id": "59808488-82f1-4c1a-9462-8836c33e71b8",
   "metadata": {},
   "outputs": [
    {
     "name": "stdin",
     "output_type": "stream",
     "text": [
      "geef een getal 4\n"
     ]
    },
    {
     "name": "stdout",
     "output_type": "stream",
     "text": [
      "24\n"
     ]
    }
   ],
   "source": [
    "#de faculteit van een getal n is gelijk aan n maal n-1 maal n-2 maal 1 maak een functie om de faculteit van een getal te berekenen.\n",
    "getal=int(input(\"geef een getal\"))\n",
    "fac=getal\n",
    "n=0\n",
    "i=1\n",
    "while n==0:\n",
    "    fac*=(getal-i)\n",
    "    i+=1\n",
    "    if(i==getal):\n",
    "        n=1\n",
    "\n",
    "print(fac)"
   ]
  },
  {
   "cell_type": "code",
   "execution_count": 154,
   "id": "28b0f1eb-1550-4a01-9ce4-b686f225685e",
   "metadata": {},
   "outputs": [
    {
     "name": "stdin",
     "output_type": "stream",
     "text": [
      "geef een getal 1\n",
      "geef een getal 1\n",
      "geef een getal 1\n",
      "geef een getal 1\n",
      "geef een getal 5\n"
     ]
    },
    {
     "name": "stdout",
     "output_type": "stream",
     "text": [
      "1.8\n"
     ]
    }
   ],
   "source": [
    "#maak een lege lijst om nummers in te plaatsen vraag via input aan de gebruiker 5 nummers bereken het gemiddelde van de nummers en print dit\n",
    "getallen=[]\n",
    "som=0\n",
    "for i in range(5):\n",
    "    getal=int(input(\"geef een getal\"))\n",
    "    getallen.append(getal)\n",
    "    som+=getal\n",
    "gemid=som/5\n",
    "print(gemid)"
   ]
  },
  {
   "cell_type": "code",
   "execution_count": 172,
   "id": "3cb447a8-2f1a-41b2-ab8b-28833f0a1644",
   "metadata": {},
   "outputs": [],
   "source": [
    "#Uitdaging (geen probleem als dit niet lukt !!)\n",
    "#maak een functie om de vierkantswortel van een getal te berekenen dit doe je door de vermeendewortel met zichzelf te vermenigvuldigen tot het verschil\n",
    "#tussen het getal waarvan je de wortel wil bekomen en de schatting kleiner wordt dan de vooraf gedefinieerde factor. je kan gebruik maken van een ruwe schatting\n",
    "#en dan verder finetunenen. neem voor de factor vb 0.001.\n",
    "#vraag een input aan de gebruiker, en gebruik de bovenstaande functie om een antwoord terug te geven.\n",
    "\n",
    "def wortel(getal):\n",
    "    getal2=1\n",
    "    n=0\n",
    "    i=0\n",
    "    while n==0: \n",
    "        getal3=getal2**2\n",
    "        if (getal-getal3)<=0.00001:\n",
    "            n=1\n",
    "            return getal2, i\n",
    "        else:\n",
    "            i+=1\n",
    "            getal2+=0.00001"
   ]
  },
  {
   "cell_type": "code",
   "execution_count": 176,
   "id": "b1e08ea0-e317-4e7e-9462-a9c923c58f15",
   "metadata": {},
   "outputs": [
    {
     "data": {
      "text/plain": [
       "(5.385169999967214, 438517)"
      ]
     },
     "execution_count": 176,
     "metadata": {},
     "output_type": "execute_result"
    }
   ],
   "source": [
    "wortel(29)\n"
   ]
  },
  {
   "cell_type": "code",
   "execution_count": 181,
   "id": "106a1e1e-94f8-41ab-9dd4-c062820ace6d",
   "metadata": {},
   "outputs": [
    {
     "data": {
      "text/plain": [
       "['g',\n",
       " 'n',\n",
       " 'i',\n",
       " 'o',\n",
       " 'd',\n",
       " ' ',\n",
       " 'e',\n",
       " 'n',\n",
       " 'o',\n",
       " 'y',\n",
       " 'r',\n",
       " 'e',\n",
       " 'v',\n",
       " 'e',\n",
       " ' ',\n",
       " 's',\n",
       " 'i',\n",
       " ' ',\n",
       " 'w',\n",
       " 'o',\n",
       " 'H',\n",
       " ' ',\n",
       " 'o',\n",
       " 'l',\n",
       " 'l',\n",
       " 'e',\n",
       " 'H']"
      ]
     },
     "execution_count": 181,
     "metadata": {},
     "output_type": "execute_result"
    }
   ],
   "source": [
    "reverse_name=[]\n",
    "for i in range(len(zin)):\n",
    "    reverse_name.append(zin[len(zin)-i-1])\n",
    "reverse_name"
   ]
  },
  {
   "cell_type": "code",
   "execution_count": 183,
   "id": "cf89dce0-a2fc-4687-9811-f305416e291f",
   "metadata": {},
   "outputs": [
    {
     "data": {
      "text/plain": [
       "'gniod enoyreve si woH olleH'"
      ]
     },
     "execution_count": 183,
     "metadata": {},
     "output_type": "execute_result"
    }
   ],
   "source": [
    "reverse_zin=\"\"\n",
    "for i in range(len(zin)):\n",
    "    reverse_zin+=reverse_name[i]\n",
    "reverse_zin"
   ]
  },
  {
   "cell_type": "code",
   "execution_count": null,
   "id": "48c230e8-d183-4951-9c12-d0c53d538e84",
   "metadata": {},
   "outputs": [],
   "source": []
  }
 ],
 "metadata": {
  "kernelspec": {
   "display_name": "Python 3 (ipykernel)",
   "language": "python",
   "name": "python3"
  },
  "language_info": {
   "codemirror_mode": {
    "name": "ipython",
    "version": 3
   },
   "file_extension": ".py",
   "mimetype": "text/x-python",
   "name": "python",
   "nbconvert_exporter": "python",
   "pygments_lexer": "ipython3",
   "version": "3.11.5"
  }
 },
 "nbformat": 4,
 "nbformat_minor": 5
}
