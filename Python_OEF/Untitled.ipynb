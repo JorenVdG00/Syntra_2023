{
 "cells": [
  {
   "cell_type": "code",
   "execution_count": 4,
   "id": "dfc07321-dcdb-4ca5-b9b8-615e94ba38bd",
   "metadata": {},
   "outputs": [
    {
     "name": "stdout",
     "output_type": "stream",
     "text": [
      "['the', 'stealth', 'warrior']\n"
     ]
    },
    {
     "data": {
      "text/plain": [
       "'TheStealthWarrior'"
      ]
     },
     "execution_count": 4,
     "metadata": {},
     "output_type": "execute_result"
    }
   ],
   "source": [
    "text1=(\"the_stealth_warrior\")\n",
    "text2=(\"The-Stealth-Warrior\")\n",
    "\n",
    "text = text1.split(\"_\")\n",
    "print(text)\n",
    "text2.split(\"-\")\n",
    "textE=[]\n",
    "for word in text:\n",
    "    endR = word[0].upper()+word[1:].lower()\n",
    "    textE.append(endR)\n",
    "\"\".join(textE)"
   ]
  },
  {
   "cell_type": "code",
   "execution_count": null,
   "id": "791fad24-5818-41c7-98bb-d9449e5eab3f",
   "metadata": {},
   "outputs": [],
   "source": []
  }
 ],
 "metadata": {
  "kernelspec": {
   "display_name": "Python 3 (ipykernel)",
   "language": "python",
   "name": "python3"
  },
  "language_info": {
   "codemirror_mode": {
    "name": "ipython",
    "version": 3
   },
   "file_extension": ".py",
   "mimetype": "text/x-python",
   "name": "python",
   "nbconvert_exporter": "python",
   "pygments_lexer": "ipython3",
   "version": "3.11.5"
  }
 },
 "nbformat": 4,
 "nbformat_minor": 5
}
