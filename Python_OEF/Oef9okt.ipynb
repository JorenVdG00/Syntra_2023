{
 "cells": [
  {
   "cell_type": "raw",
   "id": "a47aed64-b9ba-42bd-b158-cf09c848b5f5",
   "metadata": {},
   "source": [
    "Vraag de gebruiker om een tekst in te geven  als de letters a en t voorkomen druk af"
   ]
  },
  {
   "cell_type": "code",
   "execution_count": 7,
   "id": "530d39bb-d24d-428f-a3f0-72d136a56be4",
   "metadata": {},
   "outputs": [
    {
     "name": "stdin",
     "output_type": "stream",
     "text": [
      "Geef een zin JA IK GA  GEEN ;;; zetten\n"
     ]
    },
    {
     "name": "stdout",
     "output_type": "stream",
     "text": [
      "er is geen a en t\n",
      "-1\n"
     ]
    }
   ],
   "source": [
    "zin = input(\"Geef een zin\")\n",
    "if(zin.find(\"a\")!=-1)and(zin.find(\"t\")!=-1):\n",
    "    print(zin)\n",
    "else:\n",
    "    print(\"er is geen a en t\")\n",
    "print(zin.find(\"a\"))"
   ]
  },
  {
   "cell_type": "code",
   "execution_count": 15,
   "id": "d1f567e1-228f-41c2-8169-86510e878157",
   "metadata": {},
   "outputs": [
    {
     "name": "stdin",
     "output_type": "stream",
     "text": [
      "geef een zin: 123456789\n"
     ]
    },
    {
     "name": "stdout",
     "output_type": "stream",
     "text": [
      "123 123 123  789\n"
     ]
    }
   ],
   "source": [
    "zin2 = input(\"geef een zin:\")\n",
    "zin3=zin2[:3]+\" \"\n",
    "print(zin3*3+\" \"+zin2[-3:])"
   ]
  },
  {
   "cell_type": "code",
   "execution_count": 17,
   "id": "a1db868c-6108-45d2-bbe6-5707e444a486",
   "metadata": {},
   "outputs": [
    {
     "name": "stdout",
     "output_type": "stream",
     "text": [
      "exception division by zero\n"
     ]
    }
   ],
   "source": [
    "try:\n",
    "    x = 1/0\n",
    "except Exception as e:\n",
    "    print('exception {}'.format(e))"
   ]
  },
  {
   "cell_type": "code",
   "execution_count": 35,
   "id": "fd07522f-d9a5-4602-b9d1-783e27350dfa",
   "metadata": {},
   "outputs": [
    {
     "name": "stdin",
     "output_type": "stream",
     "text": [
      "geef een getal 15\n",
      "geef een getal 36\n",
      "geef een getal 28\n"
     ]
    },
    {
     "name": "stdout",
     "output_type": "stream",
     "text": [
      "[18, 15, 14]\n",
      "[15, 18, 14]\n"
     ]
    }
   ],
   "source": [
    "lijst = []\n",
    "for i in range(3):\n",
    "    getal = int(input(\"geef een getal\"))\n",
    "    if(getal%2==0):\n",
    "        getal/=2\n",
    "        getal=round(getal)\n",
    "    lijst.append(getal)\n",
    "print(sorted(lijst,reverse=True))\n",
    "print(lijst)"
   ]
  },
  {
   "cell_type": "code",
   "execution_count": 42,
   "id": "20ceb76d-4967-4185-8ef0-4d0d829dcfd4",
   "metadata": {},
   "outputs": [
    {
     "name": "stdin",
     "output_type": "stream",
     "text": [
      "geef een getal tussen 0-10 0\n"
     ]
    }
   ],
   "source": [
    "getal = int(input(\"geef een getal tussen 0-10\"))\n",
    "n=0\n",
    "i=0\n",
    "while n==0:\n",
    "    if getal <= 10 and getal >= 0:\n",
    "        n=1 \n",
    "    else:\n",
    "        getal = int(input(\"geef een getal tussen 0-10\"))\n",
    "\n",
    "for i in range(getal):\n",
    "    print(i)\n"
   ]
  },
  {
   "cell_type": "code",
   "execution_count": 43,
   "id": "5fb8b4b4-7cef-496e-9f1c-a02ff7dcd60b",
   "metadata": {},
   "outputs": [
    {
     "name": "stdin",
     "output_type": "stream",
     "text": [
      "geef een getal tussen 0-60 60\n"
     ]
    },
    {
     "name": "stdout",
     "output_type": "stream",
     "text": [
      "0\n",
      "9\n",
      "18\n",
      "27\n",
      "36\n",
      "45\n",
      "54\n"
     ]
    }
   ],
   "source": [
    "getal = int(input(\"geef een getal tussen 0-60\"))\n",
    "n=0\n",
    "i=0\n",
    "while n==0:\n",
    "    if getal <= 60 and getal >= 0:\n",
    "        n=1 \n",
    "    else:\n",
    "        getal = int(input(\"geef een getal tussen 0-60\"))\n",
    "\n",
    "for i in range(getal):\n",
    "    if(i%9==0):\n",
    "        print(i)\n"
   ]
  },
  {
   "cell_type": "code",
   "execution_count": 46,
   "id": "dd485147-6a1f-435f-84fa-acf0113eb181",
   "metadata": {},
   "outputs": [
    {
     "name": "stdin",
     "output_type": "stream",
     "text": [
      "Typ een tekst:  Typ een tekst:  hallo ik ben joren en ik ben20 jaar 123 hoedjes op een rij 666\n"
     ]
    },
    {
     "name": "stdout",
     "output_type": "stream",
     "text": [
      "de letters bestaan uit ['T', 'y', 'p', 'e', 'e', 'n', 't', 'e', 'k', 's', 't', ':', 'h', 'a', 'l', 'l', 'o', 'i', 'k', 'b', 'e', 'n', 'j', 'o', 'r', 'e', 'n', 'e', 'n', 'i', 'k', 'b', 'e', 'n', 'j', 'a', 'a', 'r', 'h', 'o', 'e', 'd', 'j', 'e', 's', 'o', 'p', 'e', 'e', 'n', 'r', 'i', 'j'] en 53 tekens\n",
      "de nummers bestaan uit ['2', '0', '1', '2', '3', '6', '6', '6'] en 8 tekens\n"
     ]
    }
   ],
   "source": [
    "tekst = input(\"Typ een tekst: \")\n",
    "plaktekst = tekst.replace(\" \",\"\")\n",
    "number=[]\n",
    "letter=[]\n",
    "for i in range(len(plaktekst)):\n",
    "    if plaktekst[i].isnumeric():\n",
    "        number.append(plaktekst[i])\n",
    "    else:\n",
    "        letter.append(plaktekst[i])\n",
    "aantal_number = len(number)\n",
    "aantal_letter = len(letter)\n",
    "\n",
    "print(f\"de letters bestaan uit {letter} en {aantal_letter} tekens\")\n",
    "print(f\"de nummers bestaan uit {number} en {aantal_number} tekens\")\n",
    "\n",
    "    \n"
   ]
  },
  {
   "cell_type": "code",
   "execution_count": 55,
   "id": "61111c5a-a47b-4593-973b-b026f5ff9361",
   "metadata": {},
   "outputs": [
    {
     "name": "stdout",
     "output_type": "stream",
     "text": [
      "True\n",
      "True\n"
     ]
    }
   ],
   "source": [
    "getal = \"1002\"\n",
    "print(getal.isdigit())\n",
    "print(getal.isnumeric())"
   ]
  },
  {
   "cell_type": "code",
   "execution_count": 56,
   "id": "28e6ff0f-5311-4d25-be9b-c5b944ba457c",
   "metadata": {},
   "outputs": [
    {
     "data": {
      "text/plain": [
       "9"
      ]
     },
     "execution_count": 56,
     "metadata": {},
     "output_type": "execute_result"
    }
   ],
   "source": [
    "import random\n",
    "random.seed(101)\n",
    "random.randint(0,10)"
   ]
  },
  {
   "cell_type": "code",
   "execution_count": 65,
   "id": "0da14b42-e9dc-4f87-b310-8714b4627da9",
   "metadata": {},
   "outputs": [
    {
     "name": "stdin",
     "output_type": "stream",
     "text": [
      "0==STOP;geef getal tussen 1,20:  15\n"
     ]
    },
    {
     "name": "stdout",
     "output_type": "stream",
     "text": [
      "gok lager\n"
     ]
    },
    {
     "name": "stdin",
     "output_type": "stream",
     "text": [
      "0==STOP;geef getal tussen 1,20:  10\n"
     ]
    },
    {
     "name": "stdout",
     "output_type": "stream",
     "text": [
      "gok lager\n"
     ]
    },
    {
     "name": "stdin",
     "output_type": "stream",
     "text": [
      "0==STOP;geef getal tussen 1,20:  5\n"
     ]
    },
    {
     "name": "stdout",
     "output_type": "stream",
     "text": [
      "gok hoger\n"
     ]
    },
    {
     "name": "stdin",
     "output_type": "stream",
     "text": [
      "0==STOP;geef getal tussen 1,20:  0\n"
     ]
    },
    {
     "name": "stdout",
     "output_type": "stream",
     "text": [
      "alleen pussies geven op\n"
     ]
    }
   ],
   "source": [
    "import random\n",
    "te_zoeken_getal = random.randint(1, 21)\n",
    "n=0\n",
    "count=1\n",
    "while n==0:\n",
    "    getal = int(input(\"0==STOP;geef getal tussen 1,20: \"))\n",
    "    if getal ==te_zoeken_getal:\n",
    "        print(\"proficiat je hebt het getal geraden in \"+ str(count)+\" keren\")\n",
    "        n=1\n",
    "    elif getal == 0:\n",
    "        print(\"alleen pussies geven op\")\n",
    "        break\n",
    "    elif getal > te_zoeken_getal:\n",
    "        print(\"gok lager\")\n",
    "    elif getal < te_zoeken_getal:\n",
    "        print(\"gok hoger\")\n",
    "\n",
    "    count+=1"
   ]
  },
  {
   "cell_type": "raw",
   "id": "c50a69fd-a403-4126-a4be-00b1c19caf20",
   "metadata": {},
   "source": [
    "Opdracht: maak een lijst met volgende steden:\n",
    "Kortrijk Gent Antwerpen Mechelen Kluisbergen Brussel Brugge SintNiklaas Bornem Luik Charleroi\n",
    "kier er random 3 uit via een random selectie op de index. Indien de index even is vervang je de naam door streepjes indien de index oneven is door sterretjes"
   ]
  },
  {
   "cell_type": "code",
   "execution_count": 93,
   "id": "de3c975b-6777-44d3-8542-0eee51ee2a43",
   "metadata": {},
   "outputs": [
    {
     "name": "stdout",
     "output_type": "stream",
     "text": [
      "['Kortrijk', 'Gent', '---------', 'Mechelen', '-----------', 'Brussel', 'Brugge', 'SintNiklaas', 'Bornem', 'Luik', 'Charleroi']\n"
     ]
    }
   ],
   "source": [
    "import random\n",
    "steden = [\"Kortrijk\", \"Gent\", \"Antwerpen\", \"Mechelen\", \"Kluisbergen\", \"Brussel\", \"Brugge\", \"SintNiklaas\", \"Bornem\", \"Luik\", \"Charleroi\"]\n",
    "r1,r2,r3 = random.randint(0, len(steden)-1),random.randint(0, len(steden)-1),random.randint(0, len(steden)-1)\n",
    "r=[r1,r2,r3]\n",
    "for stad in r:\n",
    "    if stad%2==0:\n",
    "        steden[stad]= \"-\"*len(steden[stad])\n",
    "    else:\n",
    "        steden[stad]= \"*\"*len(steden[stad])\n",
    "print(steden)"
   ]
  },
  {
   "cell_type": "code",
   "execution_count": null,
   "id": "18193195-146e-41bf-b780-a8d206666690",
   "metadata": {},
   "outputs": [],
   "source": []
  },
  {
   "cell_type": "code",
   "execution_count": 92,
   "id": "8c6be609-e5f7-44b9-a6ad-b0f64ae5b6cc",
   "metadata": {},
   "outputs": [
    {
     "name": "stdout",
     "output_type": "stream",
     "text": [
      "['Kortrijk', '****', 'Antwerpen', 'Mechelen', 'Kluisbergen', '*******', 'Brugge', 'SintNiklaas', 'Bornem', 'Luik', '---------']\n"
     ]
    }
   ],
   "source": [
    "import random\n",
    "steden = [\"Kortrijk\", \"Gent\", \"Antwerpen\", \"Mechelen\", \"Kluisbergen\", \"Brussel\", \"Brugge\", \"SintNiklaas\", \"Bornem\", \"Luik\", \"Charleroi\"]\n",
    "r1,r2,r3 = random.randint(0, len(steden)-1),random.randint(0, len(steden)-1),random.randint(0, len(steden)-1)\n",
    "r=[r1,r2,r3]\n",
    "newR=[]\n",
    "for ran in r:\n",
    "    if ran not in newR:\n",
    "        newR.append(ran)\n",
    "    else:\n",
    "        while True:\n",
    "            getal = random.randint(0,len(steden)-1)\n",
    "            if getal not in newR:\n",
    "                newR.append(getal)\n",
    "                break\n",
    "for stad in newR:\n",
    "    if stad%2==0:\n",
    "        steden[stad]= \"-\"*len(steden[stad])\n",
    "    else:\n",
    "        steden[stad]= \"*\"*len(steden[stad])\n",
    "print(steden)"
   ]
  },
  {
   "cell_type": "code",
   "execution_count": null,
   "id": "f2ed648e-9449-4a51-9071-ceb567ee0cc1",
   "metadata": {},
   "outputs": [],
   "source": []
  }
 ],
 "metadata": {
  "kernelspec": {
   "display_name": "Python 3 (ipykernel)",
   "language": "python",
   "name": "python3"
  },
  "language_info": {
   "codemirror_mode": {
    "name": "ipython",
    "version": 3
   },
   "file_extension": ".py",
   "mimetype": "text/x-python",
   "name": "python",
   "nbconvert_exporter": "python",
   "pygments_lexer": "ipython3",
   "version": "3.11.5"
  }
 },
 "nbformat": 4,
 "nbformat_minor": 5
}
