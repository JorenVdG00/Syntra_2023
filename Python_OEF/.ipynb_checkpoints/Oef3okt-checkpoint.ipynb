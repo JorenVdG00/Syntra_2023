{
 "cells": [
  {
   "cell_type": "code",
   "execution_count": null,
   "id": "30899290-1406-476a-89a5-cd09c1cb9754",
   "metadata": {},
   "outputs": [],
   "source": [
    "def goLeft():\n",
    "    print(\"Left\")\n",
    "def goRight():\n",
    "    print(\"Right\")\n",
    "def goUp():\n",
    "    print(\"Up\")\n",
    "def goDown():\n",
    "    print(\"Down\")\n"
   ]
  }
 ],
 "metadata": {
  "kernelspec": {
   "display_name": "Python 3 (ipykernel)",
   "language": "python",
   "name": "python3"
  },
  "language_info": {
   "codemirror_mode": {
    "name": "ipython",
    "version": 3
   },
   "file_extension": ".py",
   "mimetype": "text/x-python",
   "name": "python",
   "nbconvert_exporter": "python",
   "pygments_lexer": "ipython3",
   "version": "3.11.5"
  }
 },
 "nbformat": 4,
 "nbformat_minor": 5
}
