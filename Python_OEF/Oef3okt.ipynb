{
 "cells": [
  {
   "cell_type": "code",
   "execution_count": null,
   "id": "30899290-1406-476a-89a5-cd09c1cb9754",
   "metadata": {},
   "outputs": [],
   "source": [
    "def goLeft():\n",
    "    print(\"Left\")\n",
    "def goRight():\n",
    "    print(\"Right\")\n",
    "def goUp():\n",
    "    print(\"Up\")\n",
    "def goDown():\n",
    "    print(\"Down\")\n",
    "\n",
    "from pynput import keyboard\n",
    "from pynput.keyboard import Key\n",
    "\n",
    "def on_key_release(key):\n",
    "    if key == Key.right:\n",
    "        goRight()\n",
    "    elif key == Key.left:\n",
    "        goLeft()\n",
    "    elif key == Key.up:\n",
    "        goUp()\n",
    "    elif key == Key.down:\n",
    "        goDown()\n",
    "    elif key == Key.esc:\n",
    "        exit()\n",
    "\n",
    "\n",
    "with keyboard.Listener(on_release=on_key_release) as listener:\n",
    "    listener.join()"
   ]
  },
  {
   "cell_type": "code",
   "execution_count": null,
   "id": "e41523d1-2435-4b43-b5b5-ce5f8df77e94",
   "metadata": {},
   "outputs": [],
   "source": [
    "def oppDriehoek(basis, hoogte):\n",
    "    return (basis*hoogte)/2\n",
    "def volKubus(zijde):\n",
    "    return zijde**3\n",
    "def tweelaatste(tekst):\n",
    "    return tekst[-2:-1]\n",
    "print(tweelaatste(793257))\n",
    "volKubus(25)\n",
    "oppDriehoek(15,36)\n"
   ]
  },
  {
   "cell_type": "code",
   "execution_count": null,
   "id": "c4e39153-4659-4d92-826e-3e5e04f98a45",
   "metadata": {},
   "outputs": [],
   "source": []
  },
  {
   "cell_type": "code",
   "execution_count": null,
   "id": "e8afa551-9c63-43c7-80ad-53796a810a55",
   "metadata": {},
   "outputs": [],
   "source": []
  }
 ],
 "metadata": {
  "kernelspec": {
   "display_name": "Python 3 (ipykernel)",
   "language": "python",
   "name": "python3"
  },
  "language_info": {
   "codemirror_mode": {
    "name": "ipython",
    "version": 3
   },
   "file_extension": ".py",
   "mimetype": "text/x-python",
   "name": "python",
   "nbconvert_exporter": "python",
   "pygments_lexer": "ipython3",
   "version": "3.11.5"
  }
 },
 "nbformat": 4,
 "nbformat_minor": 5
}
